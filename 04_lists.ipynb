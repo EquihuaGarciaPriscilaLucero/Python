### Lists ###

# Definicion

my_list = list()
my_other_list = []

print(len(my_list))

my_list = [35, 24, 62, 52, 30, 30, 17]

print(my_list)
print(len(my_list))

my_other_list = [35, 1.77, "Fermin", "Garcia"]

print(type(my_list))
print(type(my_other_list))

# Acceso a elementos y busqueda

print(my_other_list[0])
print(my_other_list[1])
print(my_other_list[-1])
print(my_other_list[-4])
print(my_list.count(30))

#print(my_other_list[4] indexError)
#print(my_other_list[-5] indexError)

print(my_other_list.index("Fermin"))

age, height, name, surname = my_other_list
print(name)

age, height, name, surname = my_other_list[2], my_other_list[1], my_other_list[0], my_other_list[3],
print(age)

#Concatenacion

print(my_list + my_other_list)
#print(my_list - my_other_list)

# Creacion, insercion, actualizacion y eliminacion

my_other_list.append("CECyTEM") #Agreaga al final
print(my_other_list)

my_other_list.insert(1, "Rojo") # Especifica que se inserta en la posicion
print(my_other_list)

my_other_list[1] = "Azul" # Remplaza lo que alla en la posicion 1
print(my_other_list)

my_other_list.remove("Azul")
print(my_other_list)

my_list.remove (30) # Remueve el numero que se asigne
print(my_list)

print(my_list.pop()) # Muestra el ultimo nuemro que elimina
print(my_list)       # Muestra la lista modificada

my_pop_element = my_list.pop(2)
print(my_pop_element)
print(my_list)

del my_list[2]
print(my_list)

# Operaciones con listas

my_new_list = my_list.copy()

my_list.clear()
print(my_list) #No imprime nada xq se limpia antes
print(my_new_list)

my_new_list.reverse()
print(my_new_list)

my_new_list.sort() # se ordena de menos a mas
print(my_new_list)

# Sublistas

print(my_new_list[1:3])

# Cambio de tipo

my_list = "Hola Python"
print(my_list)
print(type(my_list))