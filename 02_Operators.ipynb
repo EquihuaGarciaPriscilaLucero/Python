### Operadores Aritmeticos ###

#Operaciones con enteros
#print(3 + 4)
#print(3 - 4)
#print(3 * 4)
#print(3 / 4)
#print(10 % 3)
#print(10 // 3)
#print(2 ** 3)
#print(2 ** 3 + 3 - 7 / 1 // 4)

# Operaciones con cadenas de texto
#print("Hola " + "Python" + "¿Que tal?")
#print("Hola " + str(5))

# Operaciones mixtas
#print("Hola " * 5)
#print("Hola " * (2 ** 3))

#my_float = 2.5 * 2
#print("Hola " * int(my_float))

### Opereradores comparativos ###

# Operaciones con enteros
#print(3 > 4)
#print(3 < 4)
#print(3 >= 4)
#print(4 <= 4)
#print(3 == 4)
#print(3 != 4)

#Operaciones con cadenas de texto
#print("Hola" > "Python")
#print("Hola" < "Python")
#print("aaaa" >= "abaa") # Ordenacion alfabetica por ASCII
#print(len("aaa") >= len("aaba")) # Cuenta caracteres
#print("Hola" <= "Python")
#print("Hola" == "Python")
#print("Hola" != "Python")

### Operadores Logicos ###

# Basada en el Algebra de Boole
print(3 > 4 and "hola" > "Python")
print(3 > 4 or "hola" > "Python")
print(3 < 4 and "Hola" < "Python")
print(3 < 4 or "Hola" > "Python")
print(3 < 4 or "Hola" > "Python" and 4 == 4)
print(not(3 > 4))