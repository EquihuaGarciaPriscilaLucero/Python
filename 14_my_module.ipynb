{
  "nbformat": 4,
  "nbformat_minor": 0,
  "metadata": {
    "colab": {
      "provenance": []
    },
    "kernelspec": {
      "name": "python3",
      "display_name": "Python 3"
    },
    "language_info": {
      "name": "python"
    }
  },
  "cells": [
    {
      "cell_type": "code",
      "execution_count": null,
      "metadata": {
        "id": "JbHOkvl6bArs"
      },
      "outputs": [],
      "source": [
        "### Módulo para pruebas ###\n",
        "\n",
        "def sumValue(numberOne, numberTwo, numberThree):\n",
        "    print(numberOne + numberTwo + numberThree)\n",
        "\n",
        "\n",
        "def printValue(value):\n",
        "    print(value)"
      ]
    }
  ]
}