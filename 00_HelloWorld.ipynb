#Esto es un comentario
print("hola mundo🤍")

##Este símbolo se utiliza para comentar el codigo.
#print("Hola grupo 230 de la cerrera tecnica de PROGRAMACION")

#Como consultar el tipo de dato
#print(type ("Soy un dato str")) # Tipo ´str´
#print(type(5)) #Tipo ´int´
#print(type(1.5)) #Tipo ´float´
#print(type(3+1j)) #Tipo 'complex'
print(type(True)) #Tipo ´bool´
print (type("Mi cadena de texto")) #Tipo ´NoneType´