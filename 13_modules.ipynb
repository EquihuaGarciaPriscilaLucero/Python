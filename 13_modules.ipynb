{
  "nbformat": 4,
  "nbformat_minor": 0,
  "metadata": {
    "colab": {
      "provenance": []
    },
    "kernelspec": {
      "name": "python3",
      "display_name": "Python 3"
    },
    "language_info": {
      "name": "python"
    }
  },
  "cells": [
    {
      "cell_type": "code",
      "execution_count": null,
      "metadata": {
        "id": "supoo3DFayMR"
      },
      "outputs": [],
      "source": [
        "### Modules ###\n",
        "\n",
        "from math import pi as PI_VALUE\n",
        "import math\n",
        "from my_module import sumValue, printValue\n",
        "import my_module\n",
        "\n",
        "my_module.sumValue(5, 3, 1)\n",
        "my_module.printValue(\"Hola Python!\")\n",
        "\n",
        "\n",
        "sumValue(5, 3, 1)\n",
        "printValue(\"Hola python\")\n",
        "\n",
        "\n",
        "print(math.pi)\n",
        "print(math.pow(2, 8))\n",
        "\n",
        "\n",
        "print(PI_VALUE)"
      ]
    }
  ]
}